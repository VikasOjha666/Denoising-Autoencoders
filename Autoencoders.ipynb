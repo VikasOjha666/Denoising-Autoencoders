{
 "cells": [
  {
   "cell_type": "code",
   "execution_count": 1,
   "metadata": {},
   "outputs": [
    {
     "name": "stderr",
     "output_type": "stream",
     "text": [
      "Using TensorFlow backend.\n"
     ]
    }
   ],
   "source": [
    "#Importing bunch of libraries.\n",
    "import numpy as np\n",
    "import matplotlib.pyplot as plt\n",
    "from keras.layers import Dense,Input\n",
    "from keras.models import Model\n",
    "from keras.datasets import mnist\n",
    "\n"
   ]
  },
  {
   "cell_type": "code",
   "execution_count": 2,
   "metadata": {},
   "outputs": [],
   "source": [
    "#Loading mnist dataset.\n",
    "(x_train,y_train),(x_test,y_test)=mnist.load_data()\n",
    "\n",
    "#Scaling the pixels values to lie between 0 and 1.\n",
    "x_train=x_train/255\n",
    "x_test=x_test/255\n",
    "\n",
    "#Reshaping the images as per the requirements by the Autoencoder.\n",
    "x_train=x_train.reshape(len(x_train),28*28)\n",
    "x_test=x_test.reshape(len(x_test),28*28)\n"
   ]
  },
  {
   "cell_type": "code",
   "execution_count": 3,
   "metadata": {},
   "outputs": [],
   "source": [
    "#Adding Random noise so that model is able to learn to differentiate between noise and useful features.\n",
    "x_train_noise=x_train+0.4*np.random.normal(size=x_train.shape)\n",
    "x_test_noise=x_test+0.4*np.random.normal(size=x_test.shape)\n"
   ]
  },
  {
   "cell_type": "code",
   "execution_count": 4,
   "metadata": {},
   "outputs": [
    {
     "name": "stdout",
     "output_type": "stream",
     "text": [
      "Epoch 1/10\n",
      "60000/60000 [==============================] - 18s 307us/step - loss: 0.1530\n",
      "Epoch 2/10\n",
      "60000/60000 [==============================] - 12s 208us/step - loss: 0.1192\n",
      "Epoch 3/10\n",
      "60000/60000 [==============================] - 12s 205us/step - loss: 0.1140\n",
      "Epoch 4/10\n",
      "60000/60000 [==============================] - 12s 196us/step - loss: 0.1112\n",
      "Epoch 5/10\n",
      "60000/60000 [==============================] - 12s 196us/step - loss: 0.1094\n",
      "Epoch 6/10\n",
      "60000/60000 [==============================] - 12s 202us/step - loss: 0.1080\n",
      "Epoch 7/10\n",
      "60000/60000 [==============================] - 12s 200us/step - loss: 0.1070\n",
      "Epoch 8/10\n",
      "60000/60000 [==============================] - 12s 198us/step - loss: 0.1062\n",
      "Epoch 9/10\n",
      "60000/60000 [==============================] - 12s 201us/step - loss: 0.1054\n",
      "Epoch 10/10\n",
      "60000/60000 [==============================] - 12s 198us/step - loss: 0.1049\n"
     ]
    },
    {
     "data": {
      "text/plain": [
       "<keras.callbacks.History at 0x2a7a6ef8e80>"
      ]
     },
     "execution_count": 4,
     "metadata": {},
     "output_type": "execute_result"
    }
   ],
   "source": [
    "inp=Input((784,))\n",
    "hid_enc=Dense(128,activation='relu')(inp)\n",
    "code=Dense(32,activation='relu')(hid_enc)\n",
    "\n",
    "hid_dec=Dense(128,activation='relu')(code)\n",
    "out=Dense(784,activation='sigmoid')(hid_dec)\n",
    "\n",
    "autoencoder=Model(inp,out)\n",
    "autoencoder.compile(loss='binary_crossentropy',optimizer='Adam')\n",
    "autoencoder.fit(x_train_noise,x_train,epochs=10)"
   ]
  },
  {
   "cell_type": "code",
   "execution_count": 7,
   "metadata": {},
   "outputs": [
    {
     "data": {
      "image/png": "[encoded data removed]",
      "text/plain": [
       "<Figure size 864x360 with 2 Axes>"
      ]
     },
     "metadata": {
      "needs_background": "light"
     },
     "output_type": "display_data"
    }
   ],
   "source": [
    "#Lets visualize the noisy input image and its prediction.\n",
    "fig,axs=plt.subplots(1,2,figsize=(12,5))\n",
    "axs[0].imshow(x_test_noise[1].reshape(28,28),cmap='gray')\n",
    "pred=autoencoder.predict(np.expand_dims(x_test_noise[1],axis=0))\n",
    "pred=pred.reshape(28,28)\n",
    "axs[1].imshow(pred,cmap='gray')\n",
    "plt.show()\n",
    "\n"
   ]
  },
  {
   "cell_type": "code",
   "execution_count": null,
   "metadata": {},
   "outputs": [],
   "source": []
  }
 ],
 "metadata": {
  "kernelspec": {
   "display_name": "TensorFlow-GPU",
   "language": "python",
   "name": "tensorflow"
  },
  "language_info": {
   "codemirror_mode": {
    "name": "ipython",
    "version": 3
   },
   "file_extension": ".py",
   "mimetype": "text/x-python",
   "name": "python",
   "nbconvert_exporter": "python",
   "pygments_lexer": "ipython3",
   "version": "3.6.8"
  }
 },
 "nbformat": 4,
 "nbformat_minor": 2
}
